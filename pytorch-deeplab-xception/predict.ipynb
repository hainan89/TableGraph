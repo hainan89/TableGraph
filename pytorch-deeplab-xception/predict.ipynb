{
 "cells": [
  {
   "cell_type": "code",
   "execution_count": 1,
   "metadata": {},
   "outputs": [],
   "source": [
    "from modeling.deeplab import *"
   ]
  },
  {
   "cell_type": "code",
   "execution_count": 2,
   "metadata": {},
   "outputs": [],
   "source": [
    "import argparse\n",
    "import logging"
   ]
  },
  {
   "cell_type": "code",
   "execution_count": 3,
   "metadata": {},
   "outputs": [],
   "source": [
    "from PIL import Image"
   ]
  },
  {
   "cell_type": "code",
   "execution_count": 4,
   "metadata": {},
   "outputs": [],
   "source": [
    "import numpy as np\n",
    "import matplotlib.pylab as plt"
   ]
  },
  {
   "cell_type": "code",
   "execution_count": 5,
   "metadata": {},
   "outputs": [],
   "source": [
    "from utils.loss import SegmentationLosses\n",
    "from torchvision import transforms\n",
    "from dataloaders import custom_transforms as tr"
   ]
  },
  {
   "cell_type": "code",
   "execution_count": 6,
   "metadata": {},
   "outputs": [],
   "source": [
    "class get_args():\n",
    "    \n",
    "    def __init__(self):\n",
    "        self.backbone = 'resnet'\n",
    "        self.dataset = 'tables'\n",
    "#         self.input = '../TableGenerations/dataset04/train/imgs/test-001.png'\n",
    "        self.output = './predict/0000.png'\n",
    "        self.model = './run/tables/deeplab-resnet/experiment_4/checkpoint.pth.tar'\n",
    "        \n",
    "        self.out_stride = 16\n",
    "        self.sync_bn = None\n",
    "        self.freeze_bn = False\n",
    "        \n",
    "        self.batch_size = 1\n",
    "        self.base_size = 600\n",
    "        self.crop_size = 600\n",
    "        \n",
    "        self.loss_type = \"ce\"\n",
    "        self.no_cuda = True\n",
    "        \n",
    "        self.cuda = not self.no_cuda and torch.cuda.is_available()\n",
    "        \n",
    "        pass"
   ]
  },
  {
   "cell_type": "code",
   "execution_count": 7,
   "metadata": {},
   "outputs": [],
   "source": [
    "def get_predict_model(args, n_classes):\n",
    "    net = DeepLab(num_classes=n_classes,\n",
    "                backbone=args.backbone,\n",
    "                output_stride=args.out_stride,\n",
    "                sync_bn=args.sync_bn,\n",
    "                freeze_bn=args.freeze_bn)\n",
    "\n",
    "    logging.info(\"Loading model {}\".format(args.model))\n",
    "\n",
    "    net.to(device=device)\n",
    "    net.load_state_dict(torch.load(args.model, map_location=device)[\"state_dict\"])\n",
    "    logging.info(\"Model loaded !\")\n",
    "\n",
    "    net.eval()\n",
    "    \n",
    "    return net"
   ]
  },
  {
   "cell_type": "code",
   "execution_count": 8,
   "metadata": {},
   "outputs": [],
   "source": [
    "def transform_ts(sample):\n",
    "    composed_transforms = transforms.Compose([\n",
    "        tr.FixedResize(size=args.crop_size),\n",
    "        tr.Normalize(mean=(0.485, 0.456, 0.406), std=(0.229, 0.224, 0.225)),\n",
    "        tr.ToTensor()])\n",
    "\n",
    "    return composed_transforms(sample)"
   ]
  },
  {
   "cell_type": "code",
   "execution_count": 30,
   "metadata": {},
   "outputs": [],
   "source": [
    "args = get_args()\n",
    "\n",
    "in_files = \"../TableGenerations/paper_data/test04.png\" #args.input\n",
    "out_files = args.output\n",
    "\n",
    "## number of target classes\n",
    "n_classes = 3\n",
    "\n",
    "device = torch.device('cuda' if torch.cuda.is_available() else 'cpu')\n",
    "net = get_predict_model(args, n_classes)"
   ]
  },
  {
   "cell_type": "code",
   "execution_count": 31,
   "metadata": {},
   "outputs": [],
   "source": [
    "img = Image.open(in_files).convert('RGB')\n",
    "\n",
    "sample = {'image':img, 'label':img}\n",
    "sample_tr = transform_ts(sample)\n",
    "with torch.no_grad():\n",
    "    output = net(sample_tr['image'].unsqueeze(0).cuda())\n",
    "pred = output.data.cpu()\n",
    "mask = torch.argmax(output, dim=1).squeeze(0).cpu()\n",
    "pred_mask = mask.numpy()"
   ]
  },
  {
   "cell_type": "code",
   "execution_count": 32,
   "metadata": {},
   "outputs": [],
   "source": [
    "class_colors = np.array([[0, 0, 0], #boder line\n",
    "               [125, 125, 125], # text\n",
    "               [255, 255, 255]]) # background"
   ]
  },
  {
   "cell_type": "code",
   "execution_count": 33,
   "metadata": {},
   "outputs": [],
   "source": [
    "r = pred_mask.copy()\n",
    "g = pred_mask.copy()\n",
    "b = pred_mask.copy()"
   ]
  },
  {
   "cell_type": "code",
   "execution_count": 34,
   "metadata": {},
   "outputs": [],
   "source": [
    "for ll in np.arange(0, n_classes):\n",
    "    r[pred_mask == ll] = class_colors[ll, 0]\n",
    "    g[pred_mask == ll] = class_colors[ll, 1]\n",
    "    b[pred_mask == ll] = class_colors[ll, 2]"
   ]
  },
  {
   "cell_type": "code",
   "execution_count": 35,
   "metadata": {},
   "outputs": [],
   "source": [
    "pred_mask_rgb = np.zeros((pred_mask.shape[0], pred_mask.shape[1], 3))\n",
    "pred_mask_rgb[:, :, 0] = r\n",
    "pred_mask_rgb[:, :, 1] = g\n",
    "pred_mask_rgb[:, :, 2] = b\n",
    "pred_mask_rgb_img = Image.fromarray(pred_mask_rgb.astype(np.uint8))\n",
    "pred_mask_rgb_img = pred_mask_rgb_img.resize(img.size)\n",
    "pred_mask_rgb_img.save(in_files + \".test.png\")"
   ]
  },
  {
   "cell_type": "code",
   "execution_count": 36,
   "metadata": {},
   "outputs": [
    {
     "data": {
      "text/plain": [
       "(1180, 697)"
      ]
     },
     "execution_count": 36,
     "metadata": {},
     "output_type": "execute_result"
    },
    {
     "data": {
      "image/png": "[encoded data removed]",
      "text/plain": [
       "<Figure size 432x288 with 1 Axes>"
      ]
     },
     "metadata": {
      "needs_background": "light"
     },
     "output_type": "display_data"
    },
    {
     "data": {
      "image/png": "[encoded data removed]",
      "text/plain": [
       "<Figure size 432x288 with 1 Axes>"
      ]
     },
     "metadata": {
      "needs_background": "light"
     },
     "output_type": "display_data"
    }
   ],
   "source": [
    "# plt.figure(figsize=(12, 12))\n",
    "# fig, axis = plt.subplots(1, 2, figsize=(20, 15))\n",
    "# axis[0].imshow(img)\n",
    "# axis[1].imshow(pred_mask_rgb_img)\n",
    "plt.figure()\n",
    "plt.imshow(img)\n",
    "\n",
    "plt.figure()\n",
    "plt.imshow(pred_mask_rgb_img)\n",
    "\n",
    "pred_mask_rgb_img.size"
   ]
  },
  {
   "cell_type": "code",
   "execution_count": 16,
   "metadata": {},
   "outputs": [
    {
     "data": {
      "text/plain": [
       "PIL.Image.Image"
      ]
     },
     "execution_count": 16,
     "metadata": {},
     "output_type": "execute_result"
    }
   ],
   "source": [
    "type(pred_mask_rgb_img)"
   ]
  },
  {
   "cell_type": "code",
   "execution_count": null,
   "metadata": {},
   "outputs": [],
   "source": []
  }
 ],
 "metadata": {
  "kernelspec": {
   "display_name": "pytorch-py3",
   "language": "python",
   "name": "pytorch-py3"
  },
  "language_info": {
   "codemirror_mode": {
    "name": "ipython",
    "version": 3
   },
   "file_extension": ".py",
   "mimetype": "text/x-python",
   "name": "python",
   "nbconvert_exporter": "python",
   "pygments_lexer": "ipython3",
   "version": "3.6.10"
  }
 },
 "nbformat": 4,
 "nbformat_minor": 2
}
